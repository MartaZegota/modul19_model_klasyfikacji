{
 "cells": [
  {
   "cell_type": "markdown",
   "id": "85d1fd91",
   "metadata": {},
   "source": [
    "Import bibliotek"
   ]
  },
  {
   "cell_type": "code",
   "execution_count": 1,
   "id": "d953df04",
   "metadata": {},
   "outputs": [],
   "source": [
    "import tensorflow as tf\n",
    "from tensorflow.keras import layers\n",
    "import pandas as pd\n",
    "import numpy as np\n",
    "from tensorflow.keras import datasets, layers, models\n",
    "from tensorflow.keras.utils import to_categorical"
   ]
  },
  {
   "cell_type": "markdown",
   "id": "8ed016cc",
   "metadata": {},
   "source": [
    "Import danych iris"
   ]
  },
  {
   "cell_type": "code",
   "execution_count": 2,
   "id": "eb7dc8cc",
   "metadata": {},
   "outputs": [
    {
     "data": {
      "text/html": [
       "<div>\n",
       "<style scoped>\n",
       "    .dataframe tbody tr th:only-of-type {\n",
       "        vertical-align: middle;\n",
       "    }\n",
       "\n",
       "    .dataframe tbody tr th {\n",
       "        vertical-align: top;\n",
       "    }\n",
       "\n",
       "    .dataframe thead th {\n",
       "        text-align: right;\n",
       "    }\n",
       "</style>\n",
       "<table border=\"1\" class=\"dataframe\">\n",
       "  <thead>\n",
       "    <tr style=\"text-align: right;\">\n",
       "      <th></th>\n",
       "      <th>sepal.length</th>\n",
       "      <th>sepal.width</th>\n",
       "      <th>petal.length</th>\n",
       "      <th>petal.width</th>\n",
       "      <th>variety</th>\n",
       "    </tr>\n",
       "  </thead>\n",
       "  <tbody>\n",
       "    <tr>\n",
       "      <th>0</th>\n",
       "      <td>5.1</td>\n",
       "      <td>3.5</td>\n",
       "      <td>1.4</td>\n",
       "      <td>0.2</td>\n",
       "      <td>Setosa</td>\n",
       "    </tr>\n",
       "    <tr>\n",
       "      <th>1</th>\n",
       "      <td>4.9</td>\n",
       "      <td>3.0</td>\n",
       "      <td>1.4</td>\n",
       "      <td>0.2</td>\n",
       "      <td>Setosa</td>\n",
       "    </tr>\n",
       "    <tr>\n",
       "      <th>2</th>\n",
       "      <td>4.7</td>\n",
       "      <td>3.2</td>\n",
       "      <td>1.3</td>\n",
       "      <td>0.2</td>\n",
       "      <td>Setosa</td>\n",
       "    </tr>\n",
       "    <tr>\n",
       "      <th>3</th>\n",
       "      <td>4.6</td>\n",
       "      <td>3.1</td>\n",
       "      <td>1.5</td>\n",
       "      <td>0.2</td>\n",
       "      <td>Setosa</td>\n",
       "    </tr>\n",
       "    <tr>\n",
       "      <th>4</th>\n",
       "      <td>5.0</td>\n",
       "      <td>3.6</td>\n",
       "      <td>1.4</td>\n",
       "      <td>0.2</td>\n",
       "      <td>Setosa</td>\n",
       "    </tr>\n",
       "    <tr>\n",
       "      <th>...</th>\n",
       "      <td>...</td>\n",
       "      <td>...</td>\n",
       "      <td>...</td>\n",
       "      <td>...</td>\n",
       "      <td>...</td>\n",
       "    </tr>\n",
       "    <tr>\n",
       "      <th>145</th>\n",
       "      <td>6.7</td>\n",
       "      <td>3.0</td>\n",
       "      <td>5.2</td>\n",
       "      <td>2.3</td>\n",
       "      <td>Virginica</td>\n",
       "    </tr>\n",
       "    <tr>\n",
       "      <th>146</th>\n",
       "      <td>6.3</td>\n",
       "      <td>2.5</td>\n",
       "      <td>5.0</td>\n",
       "      <td>1.9</td>\n",
       "      <td>Virginica</td>\n",
       "    </tr>\n",
       "    <tr>\n",
       "      <th>147</th>\n",
       "      <td>6.5</td>\n",
       "      <td>3.0</td>\n",
       "      <td>5.2</td>\n",
       "      <td>2.0</td>\n",
       "      <td>Virginica</td>\n",
       "    </tr>\n",
       "    <tr>\n",
       "      <th>148</th>\n",
       "      <td>6.2</td>\n",
       "      <td>3.4</td>\n",
       "      <td>5.4</td>\n",
       "      <td>2.3</td>\n",
       "      <td>Virginica</td>\n",
       "    </tr>\n",
       "    <tr>\n",
       "      <th>149</th>\n",
       "      <td>5.9</td>\n",
       "      <td>3.0</td>\n",
       "      <td>5.1</td>\n",
       "      <td>1.8</td>\n",
       "      <td>Virginica</td>\n",
       "    </tr>\n",
       "  </tbody>\n",
       "</table>\n",
       "<p>150 rows × 5 columns</p>\n",
       "</div>"
      ],
      "text/plain": [
       "     sepal.length  sepal.width  petal.length  petal.width    variety\n",
       "0             5.1          3.5           1.4          0.2     Setosa\n",
       "1             4.9          3.0           1.4          0.2     Setosa\n",
       "2             4.7          3.2           1.3          0.2     Setosa\n",
       "3             4.6          3.1           1.5          0.2     Setosa\n",
       "4             5.0          3.6           1.4          0.2     Setosa\n",
       "..            ...          ...           ...          ...        ...\n",
       "145           6.7          3.0           5.2          2.3  Virginica\n",
       "146           6.3          2.5           5.0          1.9  Virginica\n",
       "147           6.5          3.0           5.2          2.0  Virginica\n",
       "148           6.2          3.4           5.4          2.3  Virginica\n",
       "149           5.9          3.0           5.1          1.8  Virginica\n",
       "\n",
       "[150 rows x 5 columns]"
      ]
     },
     "execution_count": 2,
     "metadata": {},
     "output_type": "execute_result"
    }
   ],
   "source": [
    "iris = pd.read_csv('iris.csv')\n",
    "iris"
   ]
  },
  {
   "cell_type": "markdown",
   "id": "f71f71c7",
   "metadata": {},
   "source": [
    "Podział danych na X i y"
   ]
  },
  {
   "cell_type": "code",
   "execution_count": 3,
   "id": "56d0ad8d",
   "metadata": {},
   "outputs": [],
   "source": [
    "features = ['sepal.length','sepal.width','petal.length','petal.width']\n",
    "target = 'variety'\n",
    "X, y = iris[features], iris[target]"
   ]
  },
  {
   "cell_type": "code",
   "execution_count": 4,
   "id": "eb1abf9b",
   "metadata": {},
   "outputs": [
    {
     "name": "stdout",
     "output_type": "stream",
     "text": [
      "(150, 4)\n",
      "(150,)\n"
     ]
    }
   ],
   "source": [
    "print(X.shape)\n",
    "print(y.shape)"
   ]
  },
  {
   "cell_type": "markdown",
   "id": "9d8b056e",
   "metadata": {},
   "source": [
    "Konwersja obiektu docelowego"
   ]
  },
  {
   "cell_type": "code",
   "execution_count": 9,
   "id": "68c7866a",
   "metadata": {},
   "outputs": [],
   "source": [
    "from sklearn.preprocessing import LabelEncoder\n",
    "encoder = LabelEncoder()\n",
    "y1 = encoder.fit_transform(y)"
   ]
  },
  {
   "cell_type": "code",
   "execution_count": 14,
   "id": "78417793",
   "metadata": {},
   "outputs": [
    {
     "name": "stdout",
     "output_type": "stream",
     "text": [
      "[[1 0 0]\n",
      " [1 0 0]\n",
      " [1 0 0]\n",
      " [1 0 0]\n",
      " [1 0 0]]\n"
     ]
    }
   ],
   "source": [
    "y = pd.get_dummies(y1).values\n",
    "print(y[0:5])"
   ]
  },
  {
   "cell_type": "markdown",
   "id": "c2b1b0d0",
   "metadata": {},
   "source": [
    "Podział danych na testowe i treningowe"
   ]
  },
  {
   "cell_type": "code",
   "execution_count": 15,
   "id": "d8047ef0",
   "metadata": {},
   "outputs": [
    {
     "name": "stdout",
     "output_type": "stream",
     "text": [
      "Treningowe obserwacje: 120\n",
      "Testowe obserwacje: 30\n"
     ]
    }
   ],
   "source": [
    "from sklearn.model_selection import train_test_split\n",
    "\n",
    "X_train, X_test, y_train, y_test = train_test_split(X, y, test_size=0.2, random_state=0)\n",
    "print ('Treningowe obserwacje: %d\\nTestowe obserwacje: %d' % (X_train.shape[0], X_test.shape[0]))"
   ]
  },
  {
   "cell_type": "markdown",
   "id": "1a1bf2e0",
   "metadata": {},
   "source": [
    "Zdefiniowanie modelu"
   ]
  },
  {
   "cell_type": "code",
   "execution_count": 16,
   "id": "234b5164",
   "metadata": {},
   "outputs": [
    {
     "data": {
      "text/plain": [
       "<keras.engine.sequential.Sequential at 0x1b4adcaa0e0>"
      ]
     },
     "execution_count": 16,
     "metadata": {},
     "output_type": "execute_result"
    }
   ],
   "source": [
    "model = tf.keras.Sequential([\n",
    "    tf.keras.layers.Dense(10, activation='relu'),\n",
    "    tf.keras.layers.Dense(10, activation='relu'),\n",
    "    tf.keras.layers.Dense(3, activation='softmax')\n",
    "  ])\n",
    "model"
   ]
  },
  {
   "cell_type": "markdown",
   "id": "127f3b1d",
   "metadata": {},
   "source": [
    "Kompilacja modelu"
   ]
  },
  {
   "cell_type": "code",
   "execution_count": 17,
   "id": "5e1dd21d",
   "metadata": {},
   "outputs": [],
   "source": [
    "model.compile(optimizer='adam', loss='categorical_crossentropy', metrics=['accuracy'])"
   ]
  },
  {
   "cell_type": "markdown",
   "id": "9d207361",
   "metadata": {},
   "source": [
    "Trenowanie modelu"
   ]
  },
  {
   "cell_type": "code",
   "execution_count": 18,
   "id": "f4a78b00",
   "metadata": {
    "scrolled": false
   },
   "outputs": [
    {
     "name": "stdout",
     "output_type": "stream",
     "text": [
      "Epoch 1/100\n",
      "3/3 [==============================] - 1s 3ms/step - loss: 1.5299 - accuracy: 0.3333\n",
      "Epoch 2/100\n",
      "3/3 [==============================] - 0s 2ms/step - loss: 1.4402 - accuracy: 0.4583\n",
      "Epoch 3/100\n",
      "3/3 [==============================] - 0s 2ms/step - loss: 1.3668 - accuracy: 0.5917\n",
      "Epoch 4/100\n",
      "3/3 [==============================] - 0s 996us/step - loss: 1.3000 - accuracy: 0.6167\n",
      "Epoch 5/100\n",
      "3/3 [==============================] - 0s 3ms/step - loss: 1.2484 - accuracy: 0.6167\n",
      "Epoch 6/100\n",
      "3/3 [==============================] - 0s 2ms/step - loss: 1.2035 - accuracy: 0.6167\n",
      "Epoch 7/100\n",
      "3/3 [==============================] - 0s 1ms/step - loss: 1.1675 - accuracy: 0.6250\n",
      "Epoch 8/100\n",
      "3/3 [==============================] - 0s 2ms/step - loss: 1.1343 - accuracy: 0.6250\n",
      "Epoch 9/100\n",
      "3/3 [==============================] - 0s 3ms/step - loss: 1.1043 - accuracy: 0.6250\n",
      "Epoch 10/100\n",
      "3/3 [==============================] - 0s 3ms/step - loss: 1.0832 - accuracy: 0.6333\n",
      "Epoch 11/100\n",
      "3/3 [==============================] - 0s 4ms/step - loss: 1.0686 - accuracy: 0.6333\n",
      "Epoch 12/100\n",
      "3/3 [==============================] - 0s 4ms/step - loss: 1.0589 - accuracy: 0.6333\n",
      "Epoch 13/100\n",
      "3/3 [==============================] - 0s 4ms/step - loss: 1.0517 - accuracy: 0.6333\n",
      "Epoch 14/100\n",
      "3/3 [==============================] - 0s 4ms/step - loss: 1.0454 - accuracy: 0.6333\n",
      "Epoch 15/100\n",
      "3/3 [==============================] - 0s 4ms/step - loss: 1.0395 - accuracy: 0.6333\n",
      "Epoch 16/100\n",
      "3/3 [==============================] - 0s 4ms/step - loss: 1.0339 - accuracy: 0.6333\n",
      "Epoch 17/100\n",
      "3/3 [==============================] - 0s 3ms/step - loss: 1.0283 - accuracy: 0.6333\n",
      "Epoch 18/100\n",
      "3/3 [==============================] - 0s 3ms/step - loss: 1.0224 - accuracy: 0.6333\n",
      "Epoch 19/100\n",
      "3/3 [==============================] - 0s 2ms/step - loss: 1.0166 - accuracy: 0.6333\n",
      "Epoch 20/100\n",
      "3/3 [==============================] - 0s 3ms/step - loss: 1.0112 - accuracy: 0.6333\n",
      "Epoch 21/100\n",
      "3/3 [==============================] - 0s 4ms/step - loss: 1.0054 - accuracy: 0.6333\n",
      "Epoch 22/100\n",
      "3/3 [==============================] - 0s 5ms/step - loss: 0.9996 - accuracy: 0.6333\n",
      "Epoch 23/100\n",
      "3/3 [==============================] - 0s 3ms/step - loss: 0.9942 - accuracy: 0.6333\n",
      "Epoch 24/100\n",
      "3/3 [==============================] - 0s 3ms/step - loss: 0.9888 - accuracy: 0.6333\n",
      "Epoch 25/100\n",
      "3/3 [==============================] - 0s 3ms/step - loss: 0.9836 - accuracy: 0.6333\n",
      "Epoch 26/100\n",
      "3/3 [==============================] - 0s 3ms/step - loss: 0.9783 - accuracy: 0.6333\n",
      "Epoch 27/100\n",
      "3/3 [==============================] - 0s 4ms/step - loss: 0.9730 - accuracy: 0.6333\n",
      "Epoch 28/100\n",
      "3/3 [==============================] - 0s 5ms/step - loss: 0.9671 - accuracy: 0.6333\n",
      "Epoch 29/100\n",
      "3/3 [==============================] - 0s 6ms/step - loss: 0.9615 - accuracy: 0.6333\n",
      "Epoch 30/100\n",
      "3/3 [==============================] - 0s 4ms/step - loss: 0.9557 - accuracy: 0.6333\n",
      "Epoch 31/100\n",
      "3/3 [==============================] - 0s 4ms/step - loss: 0.9496 - accuracy: 0.6333\n",
      "Epoch 32/100\n",
      "3/3 [==============================] - 0s 4ms/step - loss: 0.9437 - accuracy: 0.6333\n",
      "Epoch 33/100\n",
      "3/3 [==============================] - 0s 3ms/step - loss: 0.9375 - accuracy: 0.6333\n",
      "Epoch 34/100\n",
      "3/3 [==============================] - 0s 3ms/step - loss: 0.9309 - accuracy: 0.6333\n",
      "Epoch 35/100\n",
      "3/3 [==============================] - 0s 3ms/step - loss: 0.9246 - accuracy: 0.6333\n",
      "Epoch 36/100\n",
      "3/3 [==============================] - 0s 3ms/step - loss: 0.9183 - accuracy: 0.6333\n",
      "Epoch 37/100\n",
      "3/3 [==============================] - 0s 4ms/step - loss: 0.9116 - accuracy: 0.6333\n",
      "Epoch 38/100\n",
      "3/3 [==============================] - 0s 3ms/step - loss: 0.9048 - accuracy: 0.6333\n",
      "Epoch 39/100\n",
      "3/3 [==============================] - 0s 3ms/step - loss: 0.8985 - accuracy: 0.6333\n",
      "Epoch 40/100\n",
      "3/3 [==============================] - 0s 3ms/step - loss: 0.8913 - accuracy: 0.6333\n",
      "Epoch 41/100\n",
      "3/3 [==============================] - 0s 4ms/step - loss: 0.8843 - accuracy: 0.6167\n",
      "Epoch 42/100\n",
      "3/3 [==============================] - 0s 3ms/step - loss: 0.8771 - accuracy: 0.5833\n",
      "Epoch 43/100\n",
      "3/3 [==============================] - 0s 2ms/step - loss: 0.8701 - accuracy: 0.5250\n",
      "Epoch 44/100\n",
      "3/3 [==============================] - 0s 3ms/step - loss: 0.8628 - accuracy: 0.4333\n",
      "Epoch 45/100\n",
      "3/3 [==============================] - 0s 3ms/step - loss: 0.8554 - accuracy: 0.4583\n",
      "Epoch 46/100\n",
      "3/3 [==============================] - 0s 4ms/step - loss: 0.8480 - accuracy: 0.5250\n",
      "Epoch 47/100\n",
      "3/3 [==============================] - 0s 3ms/step - loss: 0.8408 - accuracy: 0.6250\n",
      "Epoch 48/100\n",
      "3/3 [==============================] - 0s 3ms/step - loss: 0.8334 - accuracy: 0.6667\n",
      "Epoch 49/100\n",
      "3/3 [==============================] - 0s 4ms/step - loss: 0.8258 - accuracy: 0.6833\n",
      "Epoch 50/100\n",
      "3/3 [==============================] - 0s 4ms/step - loss: 0.8182 - accuracy: 0.6917\n",
      "Epoch 51/100\n",
      "3/3 [==============================] - 0s 3ms/step - loss: 0.8109 - accuracy: 0.6917\n",
      "Epoch 52/100\n",
      "3/3 [==============================] - 0s 3ms/step - loss: 0.8031 - accuracy: 0.6917\n",
      "Epoch 53/100\n",
      "3/3 [==============================] - 0s 2ms/step - loss: 0.7955 - accuracy: 0.6917\n",
      "Epoch 54/100\n",
      "3/3 [==============================] - 0s 3ms/step - loss: 0.7878 - accuracy: 0.6917\n",
      "Epoch 55/100\n",
      "3/3 [==============================] - 0s 3ms/step - loss: 0.7801 - accuracy: 0.6917\n",
      "Epoch 56/100\n",
      "3/3 [==============================] - 0s 3ms/step - loss: 0.7726 - accuracy: 0.6917\n",
      "Epoch 57/100\n",
      "3/3 [==============================] - 0s 4ms/step - loss: 0.7645 - accuracy: 0.6917\n",
      "Epoch 58/100\n",
      "3/3 [==============================] - 0s 4ms/step - loss: 0.7570 - accuracy: 0.6917\n",
      "Epoch 59/100\n",
      "3/3 [==============================] - 0s 4ms/step - loss: 0.7491 - accuracy: 0.6917\n",
      "Epoch 60/100\n",
      "3/3 [==============================] - 0s 4ms/step - loss: 0.7416 - accuracy: 0.6917\n",
      "Epoch 61/100\n",
      "3/3 [==============================] - 0s 2ms/step - loss: 0.7337 - accuracy: 0.6917\n",
      "Epoch 62/100\n",
      "3/3 [==============================] - 0s 4ms/step - loss: 0.7251 - accuracy: 0.6917\n",
      "Epoch 63/100\n",
      "3/3 [==============================] - 0s 3ms/step - loss: 0.7166 - accuracy: 0.6917\n",
      "Epoch 64/100\n",
      "3/3 [==============================] - 0s 4ms/step - loss: 0.7068 - accuracy: 0.6917\n",
      "Epoch 65/100\n",
      "3/3 [==============================] - 0s 5ms/step - loss: 0.6979 - accuracy: 0.7167\n",
      "Epoch 66/100\n",
      "3/3 [==============================] - 0s 4ms/step - loss: 0.6888 - accuracy: 0.7417\n",
      "Epoch 67/100\n",
      "3/3 [==============================] - 0s 3ms/step - loss: 0.6806 - accuracy: 0.7750\n",
      "Epoch 68/100\n",
      "3/3 [==============================] - 0s 2ms/step - loss: 0.6732 - accuracy: 0.8167\n",
      "Epoch 69/100\n",
      "3/3 [==============================] - 0s 3ms/step - loss: 0.6658 - accuracy: 0.8167\n",
      "Epoch 70/100\n",
      "3/3 [==============================] - 0s 4ms/step - loss: 0.6579 - accuracy: 0.8167\n",
      "Epoch 71/100\n",
      "3/3 [==============================] - 0s 4ms/step - loss: 0.6501 - accuracy: 0.8167\n",
      "Epoch 72/100\n",
      "3/3 [==============================] - 0s 6ms/step - loss: 0.6423 - accuracy: 0.7833\n",
      "Epoch 73/100\n",
      "3/3 [==============================] - 0s 4ms/step - loss: 0.6349 - accuracy: 0.7750\n",
      "Epoch 74/100\n",
      "3/3 [==============================] - 0s 2ms/step - loss: 0.6275 - accuracy: 0.7750\n",
      "Epoch 75/100\n",
      "3/3 [==============================] - 0s 3ms/step - loss: 0.6203 - accuracy: 0.7667\n",
      "Epoch 76/100\n",
      "3/3 [==============================] - 0s 2ms/step - loss: 0.6136 - accuracy: 0.7250\n",
      "Epoch 77/100\n",
      "3/3 [==============================] - 0s 4ms/step - loss: 0.6070 - accuracy: 0.7167\n",
      "Epoch 78/100\n",
      "3/3 [==============================] - 0s 4ms/step - loss: 0.6000 - accuracy: 0.7417\n",
      "Epoch 79/100\n",
      "3/3 [==============================] - 0s 3ms/step - loss: 0.5932 - accuracy: 0.7583\n",
      "Epoch 80/100\n",
      "3/3 [==============================] - 0s 4ms/step - loss: 0.5866 - accuracy: 0.7750\n",
      "Epoch 81/100\n",
      "3/3 [==============================] - 0s 3ms/step - loss: 0.5800 - accuracy: 0.7667\n",
      "Epoch 82/100\n",
      "3/3 [==============================] - 0s 2ms/step - loss: 0.5740 - accuracy: 0.7583\n",
      "Epoch 83/100\n",
      "3/3 [==============================] - 0s 4ms/step - loss: 0.5676 - accuracy: 0.7583\n",
      "Epoch 84/100\n"
     ]
    },
    {
     "name": "stdout",
     "output_type": "stream",
     "text": [
      "3/3 [==============================] - 0s 4ms/step - loss: 0.5617 - accuracy: 0.7667\n",
      "Epoch 85/100\n",
      "3/3 [==============================] - 0s 5ms/step - loss: 0.5560 - accuracy: 0.7667\n",
      "Epoch 86/100\n",
      "3/3 [==============================] - 0s 4ms/step - loss: 0.5499 - accuracy: 0.7667\n",
      "Epoch 87/100\n",
      "3/3 [==============================] - 0s 4ms/step - loss: 0.5443 - accuracy: 0.7667\n",
      "Epoch 88/100\n",
      "3/3 [==============================] - 0s 4ms/step - loss: 0.5392 - accuracy: 0.7583\n",
      "Epoch 89/100\n",
      "3/3 [==============================] - 0s 4ms/step - loss: 0.5337 - accuracy: 0.7583\n",
      "Epoch 90/100\n",
      "3/3 [==============================] - 0s 3ms/step - loss: 0.5284 - accuracy: 0.7750\n",
      "Epoch 91/100\n",
      "3/3 [==============================] - 0s 2ms/step - loss: 0.5230 - accuracy: 0.7750\n",
      "Epoch 92/100\n",
      "3/3 [==============================] - 0s 4ms/step - loss: 0.5177 - accuracy: 0.7750\n",
      "Epoch 93/100\n",
      "3/3 [==============================] - 0s 4ms/step - loss: 0.5130 - accuracy: 0.7750\n",
      "Epoch 94/100\n",
      "3/3 [==============================] - 0s 4ms/step - loss: 0.5084 - accuracy: 0.7750\n",
      "Epoch 95/100\n",
      "3/3 [==============================] - 0s 5ms/step - loss: 0.5030 - accuracy: 0.7833\n",
      "Epoch 96/100\n",
      "3/3 [==============================] - 0s 4ms/step - loss: 0.4985 - accuracy: 0.8167\n",
      "Epoch 97/100\n",
      "3/3 [==============================] - 0s 4ms/step - loss: 0.4942 - accuracy: 0.8250\n",
      "Epoch 98/100\n",
      "3/3 [==============================] - 0s 3ms/step - loss: 0.4893 - accuracy: 0.8333\n",
      "Epoch 99/100\n",
      "3/3 [==============================] - 0s 3ms/step - loss: 0.4849 - accuracy: 0.8417\n",
      "Epoch 100/100\n",
      "3/3 [==============================] - 0s 3ms/step - loss: 0.4805 - accuracy: 0.8333\n"
     ]
    },
    {
     "data": {
      "text/plain": [
       "<keras.callbacks.History at 0x1b4ad966380>"
      ]
     },
     "execution_count": 18,
     "metadata": {},
     "output_type": "execute_result"
    }
   ],
   "source": [
    "model.fit(X_train, y_train, batch_size=50, epochs=100)"
   ]
  },
  {
   "cell_type": "markdown",
   "id": "0c5eb4f8",
   "metadata": {},
   "source": [
    "Ocena modelu na podstawie danych testowych"
   ]
  },
  {
   "cell_type": "code",
   "execution_count": 19,
   "id": "ee1fc533",
   "metadata": {},
   "outputs": [
    {
     "name": "stdout",
     "output_type": "stream",
     "text": [
      "Test loss: 0.5046268105506897\n",
      "Test accuracy: 0.800000011920929\n"
     ]
    }
   ],
   "source": [
    "loss, accuracy = model.evaluate(X_test, y_test, verbose=0)\n",
    "print('Test loss:', loss)\n",
    "print('Test accuracy:', accuracy)"
   ]
  },
  {
   "cell_type": "markdown",
   "id": "7e893b01",
   "metadata": {},
   "source": [
    "Prognozowanie danych"
   ]
  },
  {
   "cell_type": "code",
   "execution_count": 20,
   "id": "9ce78394",
   "metadata": {},
   "outputs": [
    {
     "name": "stdout",
     "output_type": "stream",
     "text": [
      "1/1 [==============================] - 0s 157ms/step\n"
     ]
    },
    {
     "data": {
      "text/plain": [
       "array([[0.0256083 , 0.30288815, 0.6715036 ],\n",
       "       [0.11138891, 0.4872522 , 0.40135896],\n",
       "       [0.90554297, 0.08268082, 0.01177613],\n",
       "       [0.01482609, 0.3154529 , 0.669721  ],\n",
       "       [0.8489584 , 0.12655315, 0.02448849],\n",
       "       [0.01762114, 0.27230966, 0.7100692 ],\n",
       "       [0.870692  , 0.11025409, 0.01905393],\n",
       "       [0.09505477, 0.46228278, 0.4426625 ],\n",
       "       [0.07373665, 0.46655568, 0.45970762],\n",
       "       [0.15077552, 0.47531763, 0.37390682],\n",
       "       [0.02533971, 0.31806192, 0.6565983 ],\n",
       "       [0.1168925 , 0.45161298, 0.43149447],\n",
       "       [0.07443309, 0.4143338 , 0.51123315],\n",
       "       [0.08075339, 0.45748395, 0.46176267],\n",
       "       [0.0725653 , 0.40909806, 0.51833665],\n",
       "       [0.8700296 , 0.10936547, 0.02060501],\n",
       "       [0.08427417, 0.41964117, 0.49608472],\n",
       "       [0.07553492, 0.39175504, 0.5327101 ],\n",
       "       [0.80860686, 0.15825395, 0.03313921],\n",
       "       [0.89472556, 0.09203176, 0.01324264],\n",
       "       [0.03353857, 0.31817213, 0.64828926],\n",
       "       [0.08033752, 0.38117775, 0.5384847 ],\n",
       "       [0.78494006, 0.16833803, 0.04672184],\n",
       "       [0.7939982 , 0.16477709, 0.04122468],\n",
       "       [0.05034249, 0.39582455, 0.5538329 ],\n",
       "       [0.88124895, 0.10082455, 0.01792649],\n",
       "       [0.8260195 , 0.14015283, 0.03382771],\n",
       "       [0.1218243 , 0.45991153, 0.41826418],\n",
       "       [0.18965177, 0.44620967, 0.3641386 ],\n",
       "       [0.8225109 , 0.14616705, 0.03132197]], dtype=float32)"
      ]
     },
     "execution_count": 20,
     "metadata": {},
     "output_type": "execute_result"
    }
   ],
   "source": [
    "y_pred = model.predict(X_test)\n",
    "y_pred"
   ]
  },
  {
   "cell_type": "code",
   "execution_count": 21,
   "id": "5778eb28",
   "metadata": {},
   "outputs": [
    {
     "name": "stdout",
     "output_type": "stream",
     "text": [
      "Wartości aktualne: [2 1 0 2 0 2 0 1 1 1 2 1 1 1 1 0 1 1 0 0 2 1 0 0 2 0 0 1 1 0]\n",
      "Wartości przewidywane: [2 1 0 2 0 2 0 1 1 1 2 1 2 2 2 0 2 2 0 0 2 2 0 0 2 0 0 1 1 0]\n"
     ]
    }
   ],
   "source": [
    "actual = np.argmax(y_test, axis=1)\n",
    "predicted = np.argmax(y_pred, axis=1)\n",
    "print(f\"Wartości aktualne: {actual}\")\n",
    "print(f\"Wartości przewidywane: {predicted}\")"
   ]
  },
  {
   "cell_type": "code",
   "execution_count": null,
   "id": "a9bd4aed",
   "metadata": {},
   "outputs": [],
   "source": []
  }
 ],
 "metadata": {
  "kernelspec": {
   "display_name": "Python 3 (ipykernel)",
   "language": "python",
   "name": "python3"
  },
  "language_info": {
   "codemirror_mode": {
    "name": "ipython",
    "version": 3
   },
   "file_extension": ".py",
   "mimetype": "text/x-python",
   "name": "python",
   "nbconvert_exporter": "python",
   "pygments_lexer": "ipython3",
   "version": "3.10.4"
  }
 },
 "nbformat": 4,
 "nbformat_minor": 5
}
